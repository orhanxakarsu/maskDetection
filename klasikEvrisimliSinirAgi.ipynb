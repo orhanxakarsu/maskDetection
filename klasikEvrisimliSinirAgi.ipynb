{
 "cells": [
  {
   "cell_type": "markdown",
   "metadata": {},
   "source": [
    "# Uygulama Başlangıç\n",
    "* Kütüphaneleri import etmemiz gerekiyor"
   ]
  },
  {
   "cell_type": "code",
   "execution_count": 74,
   "metadata": {},
   "outputs": [],
   "source": [
    "\n",
    "from keras.datasets import mnist\n",
    "from keras.models import load_model\n",
    "from keras.models import Sequential\n",
    "from keras.layers import Dense,Flatten,Dropout\n",
    "from keras.layers import Conv2D,MaxPool2D\n",
    "from keras import backend as K\n",
    "import keras\n",
    "import matplotlib.pyplot as plt\n",
    "import cv2"
   ]
  },
  {
   "cell_type": "code",
   "execution_count": 59,
   "metadata": {},
   "outputs": [],
   "source": [
    "import numpy as np\n",
    "from sklearn.model_selection import train_test_split"
   ]
  },
  {
   "cell_type": "code",
   "execution_count": 66,
   "metadata": {},
   "outputs": [],
   "source": [
    "batch_size =128\n",
    "num_classes=2\n",
    "epoch=10"
   ]
  },
  {
   "cell_type": "code",
   "execution_count": 80,
   "metadata": {},
   "outputs": [],
   "source": [
    "model =Sequential()"
   ]
  },
  {
   "cell_type": "markdown",
   "metadata": {},
   "source": [
    "## Katmanların Oluşturulması"
   ]
  },
  {
   "cell_type": "code",
   "execution_count": 81,
   "metadata": {},
   "outputs": [],
   "source": [
    "model.add(Conv2D(96,kernel_size=(11,11),activation='relu',input_shape=(300,300,3),strides=4))\n",
    "model.add(MaxPool2D(pool_size=(2,2)))\n",
    "model.add(Conv2D(256,kernel_size=(5,5),activation='relu',strides=2))\n",
    "model.add(MaxPool2D(pool_size=(2,2)))\n",
    "model.add(Conv2D(384,kernel_size=(3,3),activation='relu'))\n",
    "model.add(MaxPool2D(pool_size=(2,2)))\n",
    "model.add(Flatten())\n",
    "model.add(Dense(128,activation='relu'))\n",
    "model.add(Dropout(0.50))\n",
    "model.add(Dense(64,activation='relu'))\n",
    "model.add(Dense(num_classes,activation='softmax'))"
   ]
  },
  {
   "cell_type": "code",
   "execution_count": 82,
   "metadata": {},
   "outputs": [],
   "source": [
    "model.compile(loss=keras.losses.categorical_crossentropy,\n",
    "             optimizer=keras.optimizers.Adadelta(),\n",
    "             metrics=['accuracy'])"
   ]
  },
  {
   "cell_type": "code",
   "execution_count": 83,
   "metadata": {},
   "outputs": [
    {
     "name": "stdout",
     "output_type": "stream",
     "text": [
      "Model: \"sequential_3\"\n",
      "_________________________________________________________________\n",
      "Layer (type)                 Output Shape              Param #   \n",
      "=================================================================\n",
      "conv2d_4 (Conv2D)            (None, 73, 73, 96)        34944     \n",
      "_________________________________________________________________\n",
      "max_pooling2d_4 (MaxPooling2 (None, 36, 36, 96)        0         \n",
      "_________________________________________________________________\n",
      "conv2d_5 (Conv2D)            (None, 16, 16, 256)       614656    \n",
      "_________________________________________________________________\n",
      "max_pooling2d_5 (MaxPooling2 (None, 8, 8, 256)         0         \n",
      "_________________________________________________________________\n",
      "conv2d_6 (Conv2D)            (None, 6, 6, 384)         885120    \n",
      "_________________________________________________________________\n",
      "max_pooling2d_6 (MaxPooling2 (None, 3, 3, 384)         0         \n",
      "_________________________________________________________________\n",
      "flatten_2 (Flatten)          (None, 3456)              0         \n",
      "_________________________________________________________________\n",
      "dense_4 (Dense)              (None, 128)               442496    \n",
      "_________________________________________________________________\n",
      "dropout_2 (Dropout)          (None, 128)               0         \n",
      "_________________________________________________________________\n",
      "dense_5 (Dense)              (None, 64)                8256      \n",
      "_________________________________________________________________\n",
      "dense_6 (Dense)              (None, 2)                 130       \n",
      "=================================================================\n",
      "Total params: 1,985,602\n",
      "Trainable params: 1,985,602\n",
      "Non-trainable params: 0\n",
      "_________________________________________________________________\n"
     ]
    }
   ],
   "source": [
    "model.summary()"
   ]
  },
  {
   "cell_type": "code",
   "execution_count": 42,
   "metadata": {},
   "outputs": [],
   "source": [
    "maskeliResimler = []\n",
    "maskesizResimler = []\n",
    "for i in range(3725):\n",
    "    resim1 = cv2.imread(f'data/with_mask/with_mask_{i+1}.JPG')\n",
    "    boyutlandilirmisResim = cv2.resize(resim1,(300,300),interpolation=cv2.INTER_AREA)\n",
    "    maskeliResimler.append(boyutlandilirmisResim)\n",
    "for i in range(3828):\n",
    "    resim = cv2.imread(f'data/without_mask/without_mask_{i+1}.JPG')\n",
    "    boyutlandilirmisResim = cv2.resize(resim,(300,300),interpolation=cv2.INTER_AREA)\n",
    "    maskesizResimler.append(boyutlandilirmisResim)\n",
    "\n"
   ]
  },
  {
   "cell_type": "code",
   "execution_count": 88,
   "metadata": {},
   "outputs": [],
   "source": [
    "\n",
    "X =[]\n",
    "y=[]\n",
    "\n",
    "sayac1=0\n",
    "sayac2=0\n",
    "\n",
    "for i in range(len(maskeliResimler)+len(maskesizResimler)):\n",
    "    if i<(3725*2):\n",
    "        if i%2==0:\n",
    "            X.append(maskeliResimler[sayac1])\n",
    "            y.append([1,0])\n",
    "            sayac1+=1\n",
    "        else:\n",
    "            X.append(maskesizResimler[sayac2])\n",
    "            y.append([0,1])\n",
    "            sayac2+=1\n",
    "    else:\n",
    "        X.append(maskesizResimler[sayac2])\n",
    "        y.append([0,1])\n",
    "        sayac2+=1\n",
    "        \n",
    "X=np.array(X)\n",
    "y=np.array(y)"
   ]
  },
  {
   "cell_type": "code",
   "execution_count": 89,
   "metadata": {},
   "outputs": [],
   "source": [
    "X_train, X_test, y_train, y_test=train_test_split(X,y,test_size=0.15,random_state=41)"
   ]
  },
  {
   "cell_type": "code",
   "execution_count": 90,
   "metadata": {},
   "outputs": [
    {
     "name": "stdout",
     "output_type": "stream",
     "text": [
      "Train on 6420 samples, validate on 1133 samples\n",
      "Epoch 1/10\n",
      "6420/6420 [==============================] - 134s 21ms/step - loss: 5.3652 - accuracy: 0.5587 - val_loss: 0.6684 - val_accuracy: 0.6169\n",
      "Epoch 2/10\n",
      "6420/6420 [==============================] - 135s 21ms/step - loss: 0.6440 - accuracy: 0.6558 - val_loss: 8.9616 - val_accuracy: 0.5022\n",
      "Epoch 3/10\n",
      "6420/6420 [==============================] - 135s 21ms/step - loss: 0.8797 - accuracy: 0.6226 - val_loss: 0.6634 - val_accuracy: 0.6169\n",
      "Epoch 4/10\n",
      "6420/6420 [==============================] - 137s 21ms/step - loss: 0.6928 - accuracy: 0.6477 - val_loss: 0.6944 - val_accuracy: 0.6337\n",
      "Epoch 5/10\n",
      "6420/6420 [==============================] - 137s 21ms/step - loss: 0.7265 - accuracy: 0.6745 - val_loss: 0.5202 - val_accuracy: 0.7608\n",
      "Epoch 6/10\n",
      "6420/6420 [==============================] - 137s 21ms/step - loss: 0.7747 - accuracy: 0.7206 - val_loss: 0.5028 - val_accuracy: 0.7379\n",
      "Epoch 7/10\n",
      "6420/6420 [==============================] - 139s 22ms/step - loss: 0.6003 - accuracy: 0.7438 - val_loss: 0.5375 - val_accuracy: 0.7087\n",
      "Epoch 8/10\n",
      "6420/6420 [==============================] - 137s 21ms/step - loss: 0.6093 - accuracy: 0.7891 - val_loss: 0.3446 - val_accuracy: 0.8720\n",
      "Epoch 9/10\n",
      "6420/6420 [==============================] - 139s 22ms/step - loss: 0.3765 - accuracy: 0.8456 - val_loss: 0.2797 - val_accuracy: 0.8835\n",
      "Epoch 10/10\n",
      "6420/6420 [==============================] - 138s 22ms/step - loss: 0.3598 - accuracy: 0.8547 - val_loss: 0.2668 - val_accuracy: 0.9020\n"
     ]
    },
    {
     "data": {
      "text/plain": [
       "<keras.callbacks.callbacks.History at 0x25624a62a48>"
      ]
     },
     "execution_count": 90,
     "metadata": {},
     "output_type": "execute_result"
    }
   ],
   "source": [
    "model.fit(X_train,y_train,batch_size=batch_size,epochs=epoch,verbose=1,validation_data=(X_test,y_test))\n"
   ]
  },
  {
   "cell_type": "code",
   "execution_count": 91,
   "metadata": {},
   "outputs": [],
   "source": [
    "model.save('maskeTanimaModeli.h5')"
   ]
  },
  {
   "cell_type": "code",
   "execution_count": null,
   "metadata": {},
   "outputs": [],
   "source": []
  }
 ],
 "metadata": {
  "kernelspec": {
   "display_name": "Python 3",
   "language": "python",
   "name": "python3"
  },
  "language_info": {
   "codemirror_mode": {
    "name": "ipython",
    "version": 3
   },
   "file_extension": ".py",
   "mimetype": "text/x-python",
   "name": "python",
   "nbconvert_exporter": "python",
   "pygments_lexer": "ipython3",
   "version": "3.7.7"
  }
 },
 "nbformat": 4,
 "nbformat_minor": 4
}
